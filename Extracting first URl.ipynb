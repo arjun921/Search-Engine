{
 "cells": [
  {
   "cell_type": "code",
   "execution_count": 1,
   "metadata": {
    "collapsed": true
   },
   "outputs": [],
   "source": [
    "page =('<div id=\"top_bin\"><div id=\"top_content\" class=\"width960\">'\n",
    "'<div class=\"udacity float-left\"><a href=\"http://udacity.com\">')"
   ]
  },
  {
   "cell_type": "code",
   "execution_count": 13,
   "metadata": {
    "collapsed": false
   },
   "outputs": [
    {
     "name": "stdout",
     "output_type": "stream",
     "text": [
      "http://udacity.com\n"
     ]
    }
   ],
   "source": [
    "start_link = page.find('<a href=')+9\n",
    "end_link = page.find('\">',start_link)\n",
    "url = page[start_link:end_link]\n",
    "print (url)"
   ]
  },
  {
   "cell_type": "code",
   "execution_count": 28,
   "metadata": {
    "collapsed": false
   },
   "outputs": [
    {
     "data": {
      "text/plain": [
       "'\"http://udacity.com'"
      ]
     },
     "execution_count": 28,
     "metadata": {},
     "output_type": "execute_result"
    }
   ],
   "source": [
    "# method 2\n",
    "start_link = page.find('<a href=')\n",
    "start_quote = page.find('\"',start_link)\n",
    "end_quote = page.find('\"',start_quote+1)\n",
    "url = page[start_quote:end_quote]\n",
    "url"
   ]
  },
  {
   "cell_type": "code",
   "execution_count": 29,
   "metadata": {
    "collapsed": false
   },
   "outputs": [
    {
     "data": {
      "text/plain": [
       "'http://udacity.com'"
      ]
     },
     "execution_count": 29,
     "metadata": {},
     "output_type": "execute_result"
    }
   ],
   "source": [
    "# method 2 Fix Bug\n",
    "start_link = page.find('<a href=')\n",
    "start_quote = page.find('\"',start_link)\n",
    "end_quote = page.find('\"',start_quote+1)\n",
    "url = page[start_quote+1:end_quote]\n",
    "url"
   ]
  }
 ],
 "metadata": {
  "anaconda-cloud": {},
  "kernelspec": {
   "display_name": "Python [conda root]",
   "language": "python",
   "name": "conda-root-py"
  },
  "language_info": {
   "codemirror_mode": {
    "name": "ipython",
    "version": 3
   },
   "file_extension": ".py",
   "mimetype": "text/x-python",
   "name": "python",
   "nbconvert_exporter": "python",
   "pygments_lexer": "ipython3",
   "version": "3.5.2"
  }
 },
 "nbformat": 4,
 "nbformat_minor": 1
}
